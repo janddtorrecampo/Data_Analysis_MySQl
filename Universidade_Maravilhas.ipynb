{
 "cells": [
  {
   "cell_type": "code",
   "execution_count": 133,
   "id": "e389679e",
   "metadata": {},
   "outputs": [],
   "source": [
    "import pandas as pd"
   ]
  },
  {
   "cell_type": "code",
   "execution_count": 134,
   "id": "4501ef3c",
   "metadata": {},
   "outputs": [],
   "source": [
    "import matplotlib.pyplot as plt"
   ]
  },
  {
   "cell_type": "code",
   "execution_count": 135,
   "id": "20f2e8b7",
   "metadata": {},
   "outputs": [],
   "source": [
    "dados = pd.read_csv('C:/xampp/htdocs/phpprog/Uni_Maravilhas_Final/Uni_Fase1dados.csv')"
   ]
  },
  {
   "cell_type": "code",
   "execution_count": 136,
   "id": "7f00db76",
   "metadata": {},
   "outputs": [
    {
     "data": {
      "text/html": [
       "<div>\n",
       "<style scoped>\n",
       "    .dataframe tbody tr th:only-of-type {\n",
       "        vertical-align: middle;\n",
       "    }\n",
       "\n",
       "    .dataframe tbody tr th {\n",
       "        vertical-align: top;\n",
       "    }\n",
       "\n",
       "    .dataframe thead th {\n",
       "        text-align: right;\n",
       "    }\n",
       "</style>\n",
       "<table border=\"1\" class=\"dataframe\">\n",
       "  <thead>\n",
       "    <tr style=\"text-align: right;\">\n",
       "      <th></th>\n",
       "      <th>nr_aluno</th>\n",
       "      <th>nome</th>\n",
       "      <th>apelido</th>\n",
       "      <th>curso</th>\n",
       "      <th>media_entrada</th>\n",
       "      <th>curso_concluido</th>\n",
       "      <th>media_final</th>\n",
       "    </tr>\n",
       "  </thead>\n",
       "  <tbody>\n",
       "    <tr>\n",
       "      <th>0</th>\n",
       "      <td>20216</td>\n",
       "      <td>Joana</td>\n",
       "      <td>Castelo</td>\n",
       "      <td>Comunicação</td>\n",
       "      <td>20</td>\n",
       "      <td>1</td>\n",
       "      <td>12</td>\n",
       "    </tr>\n",
       "    <tr>\n",
       "      <th>1</th>\n",
       "      <td>200315</td>\n",
       "      <td>Anne</td>\n",
       "      <td>Morais</td>\n",
       "      <td>Psicologia</td>\n",
       "      <td>14</td>\n",
       "      <td>1</td>\n",
       "      <td>16</td>\n",
       "    </tr>\n",
       "    <tr>\n",
       "      <th>2</th>\n",
       "      <td>200321</td>\n",
       "      <td>Pedro</td>\n",
       "      <td>Castelo</td>\n",
       "      <td>Informática</td>\n",
       "      <td>10</td>\n",
       "      <td>1</td>\n",
       "      <td>19</td>\n",
       "    </tr>\n",
       "    <tr>\n",
       "      <th>3</th>\n",
       "      <td>200326</td>\n",
       "      <td>Patrícia</td>\n",
       "      <td>da Silva</td>\n",
       "      <td>Psicologia</td>\n",
       "      <td>20</td>\n",
       "      <td>1</td>\n",
       "      <td>10</td>\n",
       "    </tr>\n",
       "    <tr>\n",
       "      <th>4</th>\n",
       "      <td>200331</td>\n",
       "      <td>Beatriz</td>\n",
       "      <td>Castelo</td>\n",
       "      <td>Comunicação</td>\n",
       "      <td>19</td>\n",
       "      <td>1</td>\n",
       "      <td>12</td>\n",
       "    </tr>\n",
       "  </tbody>\n",
       "</table>\n",
       "</div>"
      ],
      "text/plain": [
       "   nr_aluno      nome   apelido        curso  media_entrada  curso_concluido  \\\n",
       "0     20216     Joana   Castelo  Comunicação             20                1   \n",
       "1    200315      Anne    Morais   Psicologia             14                1   \n",
       "2    200321     Pedro   Castelo  Informática             10                1   \n",
       "3    200326  Patrícia  da Silva   Psicologia             20                1   \n",
       "4    200331   Beatriz   Castelo  Comunicação             19                1   \n",
       "\n",
       "   media_final  \n",
       "0           12  \n",
       "1           16  \n",
       "2           19  \n",
       "3           10  \n",
       "4           12  "
      ]
     },
     "execution_count": 136,
     "metadata": {},
     "output_type": "execute_result"
    }
   ],
   "source": [
    "dados.head() #initially the data was sep by semicolon which produced flawed date\n",
    "\n",
    "#realized that it was not being delinated by comma,changed the error.  working fine now"
   ]
  },
  {
   "cell_type": "code",
   "execution_count": 137,
   "id": "ac8791c2",
   "metadata": {},
   "outputs": [
    {
     "data": {
      "text/plain": [
       "0       20\n",
       "1       14\n",
       "2       10\n",
       "3       20\n",
       "4       19\n",
       "        ..\n",
       "1712    15\n",
       "1713    18\n",
       "1714    14\n",
       "1715    10\n",
       "1716    13\n",
       "Name: media_entrada, Length: 1717, dtype: int64"
      ]
     },
     "execution_count": 137,
     "metadata": {},
     "output_type": "execute_result"
    }
   ],
   "source": [
    "dados['media_entrada']"
   ]
  },
  {
   "cell_type": "code",
   "execution_count": 138,
   "id": "82eee4a7",
   "metadata": {},
   "outputs": [
    {
     "data": {
      "text/plain": [
       "0       12\n",
       "1       16\n",
       "2       19\n",
       "3       10\n",
       "4       12\n",
       "        ..\n",
       "1712    16\n",
       "1713    10\n",
       "1714    16\n",
       "1715    20\n",
       "1716    20\n",
       "Name: media_final, Length: 1717, dtype: int64"
      ]
     },
     "execution_count": 138,
     "metadata": {},
     "output_type": "execute_result"
    }
   ],
   "source": [
    "dados['media_final']  # to see the scores of the media final\n"
   ]
  },
  {
   "cell_type": "code",
   "execution_count": 139,
   "id": "b0de6fa2",
   "metadata": {},
   "outputs": [
    {
     "data": {
      "text/plain": [
       "10"
      ]
     },
     "execution_count": 139,
     "metadata": {},
     "output_type": "execute_result"
    }
   ],
   "source": [
    "dados['media_entrada'].min()  # curious about the range of the entry grades"
   ]
  },
  {
   "cell_type": "code",
   "execution_count": 140,
   "id": "89af0a8a",
   "metadata": {},
   "outputs": [
    {
     "data": {
      "text/plain": [
       "10"
      ]
     },
     "execution_count": 140,
     "metadata": {},
     "output_type": "execute_result"
    }
   ],
   "source": [
    "dados['media_final'].min()"
   ]
  },
  {
   "cell_type": "code",
   "execution_count": 141,
   "id": "1b178b32",
   "metadata": {},
   "outputs": [
    {
     "data": {
      "text/plain": [
       "20"
      ]
     },
     "execution_count": 141,
     "metadata": {},
     "output_type": "execute_result"
    }
   ],
   "source": [
    "dados['media_entrada'].max() # curious about the range of the exiting grades\n",
    "# Initially it was that the max is above 20. I am since removed this faulty data"
   ]
  },
  {
   "cell_type": "code",
   "execution_count": 195,
   "id": "ca4a2f55",
   "metadata": {},
   "outputs": [
    {
     "data": {
      "text/plain": [
       "20"
      ]
     },
     "execution_count": 195,
     "metadata": {},
     "output_type": "execute_result"
    }
   ],
   "source": [
    "dados['media_final'].max()  # there was a slight decrease in the exiting grades in terms of the max grade\n",
    "\n"
   ]
  },
  {
   "cell_type": "code",
   "execution_count": 196,
   "id": "3db66676",
   "metadata": {},
   "outputs": [
    {
     "data": {
      "text/html": [
       "<div>\n",
       "<style scoped>\n",
       "    .dataframe tbody tr th:only-of-type {\n",
       "        vertical-align: middle;\n",
       "    }\n",
       "\n",
       "    .dataframe tbody tr th {\n",
       "        vertical-align: top;\n",
       "    }\n",
       "\n",
       "    .dataframe thead th {\n",
       "        text-align: right;\n",
       "    }\n",
       "</style>\n",
       "<table border=\"1\" class=\"dataframe\">\n",
       "  <thead>\n",
       "    <tr style=\"text-align: right;\">\n",
       "      <th></th>\n",
       "      <th>curso</th>\n",
       "      <th>media_entrada</th>\n",
       "      <th>media_final</th>\n",
       "    </tr>\n",
       "  </thead>\n",
       "  <tbody>\n",
       "    <tr>\n",
       "      <th>0</th>\n",
       "      <td>Comunicação</td>\n",
       "      <td>20</td>\n",
       "      <td>12</td>\n",
       "    </tr>\n",
       "    <tr>\n",
       "      <th>1</th>\n",
       "      <td>Psicologia</td>\n",
       "      <td>14</td>\n",
       "      <td>16</td>\n",
       "    </tr>\n",
       "    <tr>\n",
       "      <th>2</th>\n",
       "      <td>Informática</td>\n",
       "      <td>10</td>\n",
       "      <td>19</td>\n",
       "    </tr>\n",
       "    <tr>\n",
       "      <th>3</th>\n",
       "      <td>Psicologia</td>\n",
       "      <td>20</td>\n",
       "      <td>10</td>\n",
       "    </tr>\n",
       "    <tr>\n",
       "      <th>4</th>\n",
       "      <td>Comunicação</td>\n",
       "      <td>19</td>\n",
       "      <td>12</td>\n",
       "    </tr>\n",
       "    <tr>\n",
       "      <th>...</th>\n",
       "      <td>...</td>\n",
       "      <td>...</td>\n",
       "      <td>...</td>\n",
       "    </tr>\n",
       "    <tr>\n",
       "      <th>1712</th>\n",
       "      <td>Psicologia</td>\n",
       "      <td>15</td>\n",
       "      <td>16</td>\n",
       "    </tr>\n",
       "    <tr>\n",
       "      <th>1713</th>\n",
       "      <td>Psicologia</td>\n",
       "      <td>18</td>\n",
       "      <td>10</td>\n",
       "    </tr>\n",
       "    <tr>\n",
       "      <th>1714</th>\n",
       "      <td>Informática</td>\n",
       "      <td>14</td>\n",
       "      <td>16</td>\n",
       "    </tr>\n",
       "    <tr>\n",
       "      <th>1715</th>\n",
       "      <td>Psicologia</td>\n",
       "      <td>10</td>\n",
       "      <td>20</td>\n",
       "    </tr>\n",
       "    <tr>\n",
       "      <th>1716</th>\n",
       "      <td>Psicologia</td>\n",
       "      <td>13</td>\n",
       "      <td>20</td>\n",
       "    </tr>\n",
       "  </tbody>\n",
       "</table>\n",
       "<p>1717 rows × 3 columns</p>\n",
       "</div>"
      ],
      "text/plain": [
       "            curso  media_entrada  media_final\n",
       "0     Comunicação             20           12\n",
       "1      Psicologia             14           16\n",
       "2     Informática             10           19\n",
       "3      Psicologia             20           10\n",
       "4     Comunicação             19           12\n",
       "...           ...            ...          ...\n",
       "1712   Psicologia             15           16\n",
       "1713   Psicologia             18           10\n",
       "1714  Informática             14           16\n",
       "1715   Psicologia             10           20\n",
       "1716   Psicologia             13           20\n",
       "\n",
       "[1717 rows x 3 columns]"
      ]
     },
     "execution_count": 196,
     "metadata": {},
     "output_type": "execute_result"
    }
   ],
   "source": [
    "cols = ['curso','media_entrada', 'media_final']  #interesting to see these col side by side\n",
    "dados[cols]"
   ]
  },
  {
   "cell_type": "code",
   "execution_count": 197,
   "id": "4e34a271",
   "metadata": {},
   "outputs": [
    {
     "data": {
      "text/plain": [
       "pandas.core.frame.DataFrame"
      ]
     },
     "execution_count": 197,
     "metadata": {},
     "output_type": "execute_result"
    }
   ],
   "source": [
    "type(dados) "
   ]
  },
  {
   "cell_type": "code",
   "execution_count": 198,
   "id": "24427300",
   "metadata": {},
   "outputs": [
    {
     "data": {
      "text/html": [
       "<div>\n",
       "<style scoped>\n",
       "    .dataframe tbody tr th:only-of-type {\n",
       "        vertical-align: middle;\n",
       "    }\n",
       "\n",
       "    .dataframe tbody tr th {\n",
       "        vertical-align: top;\n",
       "    }\n",
       "\n",
       "    .dataframe thead th {\n",
       "        text-align: right;\n",
       "    }\n",
       "</style>\n",
       "<table border=\"1\" class=\"dataframe\">\n",
       "  <thead>\n",
       "    <tr style=\"text-align: right;\">\n",
       "      <th></th>\n",
       "      <th>nr_aluno</th>\n",
       "      <th>nome</th>\n",
       "      <th>apelido</th>\n",
       "      <th>curso</th>\n",
       "      <th>media_entrada</th>\n",
       "      <th>curso_concluido</th>\n",
       "      <th>media_final</th>\n",
       "    </tr>\n",
       "  </thead>\n",
       "  <tbody>\n",
       "    <tr>\n",
       "      <th>1715</th>\n",
       "      <td>2022165224</td>\n",
       "      <td>Jorge</td>\n",
       "      <td>Pires</td>\n",
       "      <td>Psicologia</td>\n",
       "      <td>10</td>\n",
       "      <td>1</td>\n",
       "      <td>20</td>\n",
       "    </tr>\n",
       "    <tr>\n",
       "      <th>1716</th>\n",
       "      <td>2022174449</td>\n",
       "      <td>Michaelangelo</td>\n",
       "      <td>Silva</td>\n",
       "      <td>Psicologia</td>\n",
       "      <td>13</td>\n",
       "      <td>1</td>\n",
       "      <td>20</td>\n",
       "    </tr>\n",
       "  </tbody>\n",
       "</table>\n",
       "</div>"
      ],
      "text/plain": [
       "        nr_aluno           nome apelido       curso  media_entrada  \\\n",
       "1715  2022165224          Jorge   Pires  Psicologia             10   \n",
       "1716  2022174449  Michaelangelo   Silva  Psicologia             13   \n",
       "\n",
       "      curso_concluido  media_final  \n",
       "1715                1           20  \n",
       "1716                1           20  "
      ]
     },
     "execution_count": 198,
     "metadata": {},
     "output_type": "execute_result"
    }
   ],
   "source": [
    "dados_end = dados.tail(2)  # see the last two of the db\n",
    "dados_end"
   ]
  },
  {
   "cell_type": "code",
   "execution_count": 199,
   "id": "d4cfc1f2",
   "metadata": {},
   "outputs": [
    {
     "data": {
      "text/plain": [
       "nr_aluno            int64\n",
       "nome               object\n",
       "apelido            object\n",
       "curso              object\n",
       "media_entrada       int64\n",
       "curso_concluido     int64\n",
       "media_final         int64\n",
       "dtype: object"
      ]
     },
     "execution_count": 199,
     "metadata": {},
     "output_type": "execute_result"
    }
   ],
   "source": [
    "dados.dtypes #series, index is not a col.  It is a label"
   ]
  },
  {
   "cell_type": "code",
   "execution_count": 201,
   "id": "9ae77018",
   "metadata": {},
   "outputs": [
    {
     "data": {
      "text/plain": [
       "(1717, 7)"
      ]
     },
     "execution_count": 201,
     "metadata": {},
     "output_type": "execute_result"
    }
   ],
   "source": [
    "dados.shape  #this is the same as sql"
   ]
  },
  {
   "cell_type": "code",
   "execution_count": 202,
   "id": "22255b05",
   "metadata": {},
   "outputs": [
    {
     "data": {
      "text/plain": [
       "RangeIndex(start=0, stop=1717, step=1)"
      ]
     },
     "execution_count": 202,
     "metadata": {},
     "output_type": "execute_result"
    }
   ],
   "source": [
    "dados.index"
   ]
  },
  {
   "cell_type": "code",
   "execution_count": 203,
   "id": "aa733a87",
   "metadata": {},
   "outputs": [
    {
     "data": {
      "text/plain": [
       "Index(['nr_aluno', 'nome', 'apelido', 'curso', 'media_entrada',\n",
       "       'curso_concluido', 'media_final'],\n",
       "      dtype='object')"
      ]
     },
     "execution_count": 203,
     "metadata": {},
     "output_type": "execute_result"
    }
   ],
   "source": [
    "dados.columns"
   ]
  },
  {
   "cell_type": "code",
   "execution_count": 204,
   "id": "ea5843e0",
   "metadata": {},
   "outputs": [
    {
     "data": {
      "text/html": [
       "<div>\n",
       "<style scoped>\n",
       "    .dataframe tbody tr th:only-of-type {\n",
       "        vertical-align: middle;\n",
       "    }\n",
       "\n",
       "    .dataframe tbody tr th {\n",
       "        vertical-align: top;\n",
       "    }\n",
       "\n",
       "    .dataframe thead th {\n",
       "        text-align: right;\n",
       "    }\n",
       "</style>\n",
       "<table border=\"1\" class=\"dataframe\">\n",
       "  <thead>\n",
       "    <tr style=\"text-align: right;\">\n",
       "      <th></th>\n",
       "      <th>nome</th>\n",
       "      <th>apelido</th>\n",
       "      <th>curso</th>\n",
       "      <th>media_entrada</th>\n",
       "      <th>curso_concluido</th>\n",
       "      <th>media_final</th>\n",
       "    </tr>\n",
       "    <tr>\n",
       "      <th>nr_aluno</th>\n",
       "      <th></th>\n",
       "      <th></th>\n",
       "      <th></th>\n",
       "      <th></th>\n",
       "      <th></th>\n",
       "      <th></th>\n",
       "    </tr>\n",
       "  </thead>\n",
       "  <tbody>\n",
       "    <tr>\n",
       "      <th>20216</th>\n",
       "      <td>Joana</td>\n",
       "      <td>Castelo</td>\n",
       "      <td>Comunicação</td>\n",
       "      <td>20</td>\n",
       "      <td>1</td>\n",
       "      <td>12</td>\n",
       "    </tr>\n",
       "    <tr>\n",
       "      <th>200315</th>\n",
       "      <td>Anne</td>\n",
       "      <td>Morais</td>\n",
       "      <td>Psicologia</td>\n",
       "      <td>14</td>\n",
       "      <td>1</td>\n",
       "      <td>16</td>\n",
       "    </tr>\n",
       "    <tr>\n",
       "      <th>200321</th>\n",
       "      <td>Pedro</td>\n",
       "      <td>Castelo</td>\n",
       "      <td>Informática</td>\n",
       "      <td>10</td>\n",
       "      <td>1</td>\n",
       "      <td>19</td>\n",
       "    </tr>\n",
       "    <tr>\n",
       "      <th>200326</th>\n",
       "      <td>Patrícia</td>\n",
       "      <td>da Silva</td>\n",
       "      <td>Psicologia</td>\n",
       "      <td>20</td>\n",
       "      <td>1</td>\n",
       "      <td>10</td>\n",
       "    </tr>\n",
       "    <tr>\n",
       "      <th>200331</th>\n",
       "      <td>Beatriz</td>\n",
       "      <td>Castelo</td>\n",
       "      <td>Comunicação</td>\n",
       "      <td>19</td>\n",
       "      <td>1</td>\n",
       "      <td>12</td>\n",
       "    </tr>\n",
       "    <tr>\n",
       "      <th>...</th>\n",
       "      <td>...</td>\n",
       "      <td>...</td>\n",
       "      <td>...</td>\n",
       "      <td>...</td>\n",
       "      <td>...</td>\n",
       "      <td>...</td>\n",
       "    </tr>\n",
       "    <tr>\n",
       "      <th>2022146725</th>\n",
       "      <td>Rita</td>\n",
       "      <td>Cintra</td>\n",
       "      <td>Psicologia</td>\n",
       "      <td>15</td>\n",
       "      <td>1</td>\n",
       "      <td>16</td>\n",
       "    </tr>\n",
       "    <tr>\n",
       "      <th>2022150947</th>\n",
       "      <td>Christos</td>\n",
       "      <td>Machado</td>\n",
       "      <td>Psicologia</td>\n",
       "      <td>18</td>\n",
       "      <td>1</td>\n",
       "      <td>10</td>\n",
       "    </tr>\n",
       "    <tr>\n",
       "      <th>2022165143</th>\n",
       "      <td>Pedro</td>\n",
       "      <td>Pires</td>\n",
       "      <td>Informática</td>\n",
       "      <td>14</td>\n",
       "      <td>1</td>\n",
       "      <td>16</td>\n",
       "    </tr>\n",
       "    <tr>\n",
       "      <th>2022165224</th>\n",
       "      <td>Jorge</td>\n",
       "      <td>Pires</td>\n",
       "      <td>Psicologia</td>\n",
       "      <td>10</td>\n",
       "      <td>1</td>\n",
       "      <td>20</td>\n",
       "    </tr>\n",
       "    <tr>\n",
       "      <th>2022174449</th>\n",
       "      <td>Michaelangelo</td>\n",
       "      <td>Silva</td>\n",
       "      <td>Psicologia</td>\n",
       "      <td>13</td>\n",
       "      <td>1</td>\n",
       "      <td>20</td>\n",
       "    </tr>\n",
       "  </tbody>\n",
       "</table>\n",
       "<p>1717 rows × 6 columns</p>\n",
       "</div>"
      ],
      "text/plain": [
       "                     nome   apelido        curso  media_entrada  \\\n",
       "nr_aluno                                                          \n",
       "20216               Joana   Castelo  Comunicação             20   \n",
       "200315               Anne    Morais   Psicologia             14   \n",
       "200321              Pedro   Castelo  Informática             10   \n",
       "200326           Patrícia  da Silva   Psicologia             20   \n",
       "200331            Beatriz   Castelo  Comunicação             19   \n",
       "...                   ...       ...          ...            ...   \n",
       "2022146725           Rita    Cintra   Psicologia             15   \n",
       "2022150947       Christos   Machado   Psicologia             18   \n",
       "2022165143          Pedro     Pires  Informática             14   \n",
       "2022165224          Jorge     Pires   Psicologia             10   \n",
       "2022174449  Michaelangelo     Silva   Psicologia             13   \n",
       "\n",
       "            curso_concluido  media_final  \n",
       "nr_aluno                                  \n",
       "20216                     1           12  \n",
       "200315                    1           16  \n",
       "200321                    1           19  \n",
       "200326                    1           10  \n",
       "200331                    1           12  \n",
       "...                     ...          ...  \n",
       "2022146725                1           16  \n",
       "2022150947                1           10  \n",
       "2022165143                1           16  \n",
       "2022165224                1           20  \n",
       "2022174449                1           20  \n",
       "\n",
       "[1717 rows x 6 columns]"
      ]
     },
     "execution_count": 204,
     "metadata": {},
     "output_type": "execute_result"
    }
   ],
   "source": [
    "dados.set_index('nr_aluno')  # change index to student ID to take out unnecessary numbers"
   ]
  },
  {
   "cell_type": "code",
   "execution_count": 205,
   "id": "eeda9a88",
   "metadata": {},
   "outputs": [],
   "source": [
    "group_df = dados.groupby(\"curso\")"
   ]
  },
  {
   "cell_type": "code",
   "execution_count": 206,
   "id": "1aff35c7",
   "metadata": {},
   "outputs": [],
   "source": [
    "mean_df = group_df.mean().round(0)"
   ]
  },
  {
   "cell_type": "code",
   "execution_count": 207,
   "id": "a8e6d6f3",
   "metadata": {},
   "outputs": [
    {
     "name": "stdout",
     "output_type": "stream",
     "text": [
      "               nr_aluno  media_entrada  curso_concluido  media_final\n",
      "curso                                                               \n",
      "Comunicação  63765375.0           15.0              1.0         15.0\n",
      "Informática  74797905.0           15.0              1.0         15.0\n",
      "Psicologia   72492398.0           15.0              1.0         15.0\n"
     ]
    }
   ],
   "source": [
    "print(mean_df)  \n",
    "#it is clear that there is not a correlation between the entering grades and final grades of the course"
   ]
  },
  {
   "cell_type": "code",
   "execution_count": 208,
   "id": "05f28d51",
   "metadata": {},
   "outputs": [
    {
     "name": "stdout",
     "output_type": "stream",
     "text": [
      "The mean of the entering gpa =  15.0\n"
     ]
    }
   ],
   "source": [
    "print(\"The mean of the entering gpa = \",dados['media_entrada'].mean().round(0))  # look at mean to answer the inquiry"
   ]
  },
  {
   "cell_type": "code",
   "execution_count": 209,
   "id": "b2f616d8",
   "metadata": {},
   "outputs": [
    {
     "name": "stdout",
     "output_type": "stream",
     "text": [
      "The mean of the exiting gpa =  15.0\n"
     ]
    }
   ],
   "source": [
    "print(\"The mean of the exiting gpa = \",dados['media_final'].mean().round(0))  #look at mean at final grade"
   ]
  },
  {
   "cell_type": "code",
   "execution_count": 210,
   "id": "6a5a8b38",
   "metadata": {},
   "outputs": [],
   "source": [
    "data = pd.read_csv('C:/xampp/htdocs/phpprog/Uni_Maravilhas_Final/Uni_dadosErrados.csv')\n",
    "# imported the csv file that I created with the flawed data to do some analysis\n",
    "#converted the text file to csv"
   ]
  },
  {
   "cell_type": "code",
   "execution_count": 211,
   "id": "e72c1f3e",
   "metadata": {},
   "outputs": [
    {
     "data": {
      "text/html": [
       "<div>\n",
       "<style scoped>\n",
       "    .dataframe tbody tr th:only-of-type {\n",
       "        vertical-align: middle;\n",
       "    }\n",
       "\n",
       "    .dataframe tbody tr th {\n",
       "        vertical-align: top;\n",
       "    }\n",
       "\n",
       "    .dataframe thead th {\n",
       "        text-align: right;\n",
       "    }\n",
       "</style>\n",
       "<table border=\"1\" class=\"dataframe\">\n",
       "  <thead>\n",
       "    <tr style=\"text-align: right;\">\n",
       "      <th></th>\n",
       "      <th>nr_aluno</th>\n",
       "      <th>nome</th>\n",
       "      <th>apelido</th>\n",
       "      <th>curso</th>\n",
       "      <th>media_entrada</th>\n",
       "      <th>curso_concluido</th>\n",
       "      <th>media_final</th>\n",
       "    </tr>\n",
       "  </thead>\n",
       "  <tbody>\n",
       "    <tr>\n",
       "      <th>0</th>\n",
       "      <td>200722</td>\n",
       "      <td>Catarina</td>\n",
       "      <td>da Silva</td>\n",
       "      <td>Psicologia</td>\n",
       "      <td>13</td>\n",
       "      <td>0</td>\n",
       "      <td>NaN</td>\n",
       "    </tr>\n",
       "    <tr>\n",
       "      <th>1</th>\n",
       "      <td>200739</td>\n",
       "      <td>Alice</td>\n",
       "      <td>Pires</td>\n",
       "      <td>Psicologia</td>\n",
       "      <td>17</td>\n",
       "      <td>0</td>\n",
       "      <td>NaN</td>\n",
       "    </tr>\n",
       "    <tr>\n",
       "      <th>2</th>\n",
       "      <td>202245</td>\n",
       "      <td>Rui</td>\n",
       "      <td>Pires</td>\n",
       "      <td>Informática</td>\n",
       "      <td>10</td>\n",
       "      <td>1</td>\n",
       "      <td>-2.0</td>\n",
       "    </tr>\n",
       "    <tr>\n",
       "      <th>3</th>\n",
       "      <td>2003485</td>\n",
       "      <td>Alice</td>\n",
       "      <td>Pires</td>\n",
       "      <td>Psicologia</td>\n",
       "      <td>13</td>\n",
       "      <td>0</td>\n",
       "      <td>NaN</td>\n",
       "    </tr>\n",
       "    <tr>\n",
       "      <th>4</th>\n",
       "      <td>2003504</td>\n",
       "      <td>Beatriz</td>\n",
       "      <td>Laranjeira</td>\n",
       "      <td>Comunicação</td>\n",
       "      <td>12</td>\n",
       "      <td>0</td>\n",
       "      <td>NaN</td>\n",
       "    </tr>\n",
       "  </tbody>\n",
       "</table>\n",
       "</div>"
      ],
      "text/plain": [
       "   nr_aluno      nome     apelido        curso  media_entrada  \\\n",
       "0    200722  Catarina    da Silva   Psicologia             13   \n",
       "1    200739     Alice       Pires   Psicologia             17   \n",
       "2    202245       Rui       Pires  Informática             10   \n",
       "3   2003485     Alice       Pires   Psicologia             13   \n",
       "4   2003504   Beatriz  Laranjeira  Comunicação             12   \n",
       "\n",
       "   curso_concluido  media_final  \n",
       "0                0          NaN  \n",
       "1                0          NaN  \n",
       "2                1         -2.0  \n",
       "3                0          NaN  \n",
       "4                0          NaN  "
      ]
     },
     "execution_count": 211,
     "metadata": {},
     "output_type": "execute_result"
    }
   ],
   "source": [
    "dados2.head()  #checking to see that the data is in fact the flawed data"
   ]
  },
  {
   "cell_type": "code",
   "execution_count": 212,
   "id": "8331feeb",
   "metadata": {},
   "outputs": [
    {
     "data": {
      "text/plain": [
       "(33, 7)"
      ]
     },
     "execution_count": 212,
     "metadata": {},
     "output_type": "execute_result"
    }
   ],
   "source": [
    "dados2.shape  #shape is consistent with csv file"
   ]
  },
  {
   "cell_type": "code",
   "execution_count": 213,
   "id": "2c502c8a",
   "metadata": {},
   "outputs": [
    {
     "data": {
      "text/html": [
       "<div>\n",
       "<style scoped>\n",
       "    .dataframe tbody tr th:only-of-type {\n",
       "        vertical-align: middle;\n",
       "    }\n",
       "\n",
       "    .dataframe tbody tr th {\n",
       "        vertical-align: top;\n",
       "    }\n",
       "\n",
       "    .dataframe thead th {\n",
       "        text-align: right;\n",
       "    }\n",
       "</style>\n",
       "<table border=\"1\" class=\"dataframe\">\n",
       "  <thead>\n",
       "    <tr style=\"text-align: right;\">\n",
       "      <th></th>\n",
       "      <th>nr_aluno</th>\n",
       "      <th>nome</th>\n",
       "      <th>apelido</th>\n",
       "      <th>curso</th>\n",
       "      <th>media_entrada</th>\n",
       "      <th>curso_concluido</th>\n",
       "      <th>media_final</th>\n",
       "    </tr>\n",
       "  </thead>\n",
       "  <tbody>\n",
       "    <tr>\n",
       "      <th>28</th>\n",
       "      <td>20211328</td>\n",
       "      <td>Ana</td>\n",
       "      <td>Sampaio</td>\n",
       "      <td>Informática</td>\n",
       "      <td>12</td>\n",
       "      <td>1</td>\n",
       "      <td>-1.0</td>\n",
       "    </tr>\n",
       "    <tr>\n",
       "      <th>29</th>\n",
       "      <td>20211394</td>\n",
       "      <td>Bruno</td>\n",
       "      <td>Cintra</td>\n",
       "      <td>Medicina Veterinária</td>\n",
       "      <td>18</td>\n",
       "      <td>1</td>\n",
       "      <td>13.0</td>\n",
       "    </tr>\n",
       "    <tr>\n",
       "      <th>30</th>\n",
       "      <td>20211664</td>\n",
       "      <td>Beatriz</td>\n",
       "      <td>Capicua</td>\n",
       "      <td>Informática</td>\n",
       "      <td>16</td>\n",
       "      <td>0</td>\n",
       "      <td>NaN</td>\n",
       "    </tr>\n",
       "    <tr>\n",
       "      <th>31</th>\n",
       "      <td>20221087</td>\n",
       "      <td>Rodrigo</td>\n",
       "      <td>Morais</td>\n",
       "      <td>Informática</td>\n",
       "      <td>16</td>\n",
       "      <td>0</td>\n",
       "      <td>NaN</td>\n",
       "    </tr>\n",
       "    <tr>\n",
       "      <th>32</th>\n",
       "      <td>20221456</td>\n",
       "      <td>Lucas</td>\n",
       "      <td>Silva</td>\n",
       "      <td>Informática</td>\n",
       "      <td>18</td>\n",
       "      <td>1</td>\n",
       "      <td>-1.0</td>\n",
       "    </tr>\n",
       "  </tbody>\n",
       "</table>\n",
       "</div>"
      ],
      "text/plain": [
       "    nr_aluno     nome  apelido                 curso  media_entrada  \\\n",
       "28  20211328      Ana  Sampaio           Informática             12   \n",
       "29  20211394    Bruno   Cintra  Medicina Veterinária             18   \n",
       "30  20211664  Beatriz  Capicua           Informática             16   \n",
       "31  20221087  Rodrigo   Morais           Informática             16   \n",
       "32  20221456    Lucas    Silva           Informática             18   \n",
       "\n",
       "    curso_concluido  media_final  \n",
       "28                1         -1.0  \n",
       "29                1         13.0  \n",
       "30                0          NaN  \n",
       "31                0          NaN  \n",
       "32                1         -1.0  "
      ]
     },
     "execution_count": 213,
     "metadata": {},
     "output_type": "execute_result"
    }
   ],
   "source": [
    "dados2.tail()  #double check and it is ok"
   ]
  },
  {
   "cell_type": "code",
   "execution_count": 215,
   "id": "78fc4b73",
   "metadata": {},
   "outputs": [],
   "source": [
    "df=dados2.query(\"curso_concluido == 0\")  #curious how many of the faulty data did not finish the course"
   ]
  },
  {
   "cell_type": "code",
   "execution_count": 219,
   "id": "4d273281",
   "metadata": {},
   "outputs": [
    {
     "data": {
      "text/plain": [
       "(15, 7)"
      ]
     },
     "execution_count": 219,
     "metadata": {},
     "output_type": "execute_result"
    }
   ],
   "source": [
    "df.shape  #it appears that about half of the faulty data was from students who did not finish the course"
   ]
  },
  {
   "cell_type": "code",
   "execution_count": 220,
   "id": "3141a864",
   "metadata": {},
   "outputs": [
    {
     "data": {
      "text/html": [
       "<div>\n",
       "<style scoped>\n",
       "    .dataframe tbody tr th:only-of-type {\n",
       "        vertical-align: middle;\n",
       "    }\n",
       "\n",
       "    .dataframe tbody tr th {\n",
       "        vertical-align: top;\n",
       "    }\n",
       "\n",
       "    .dataframe thead th {\n",
       "        text-align: right;\n",
       "    }\n",
       "</style>\n",
       "<table border=\"1\" class=\"dataframe\">\n",
       "  <thead>\n",
       "    <tr style=\"text-align: right;\">\n",
       "      <th></th>\n",
       "      <th>nr_aluno</th>\n",
       "      <th>nome</th>\n",
       "      <th>apelido</th>\n",
       "      <th>curso</th>\n",
       "      <th>media_entrada</th>\n",
       "      <th>curso_concluido</th>\n",
       "      <th>media_final</th>\n",
       "    </tr>\n",
       "  </thead>\n",
       "  <tbody>\n",
       "    <tr>\n",
       "      <th>0</th>\n",
       "      <td>200722</td>\n",
       "      <td>Catarina</td>\n",
       "      <td>da Silva</td>\n",
       "      <td>Psicologia</td>\n",
       "      <td>13</td>\n",
       "      <td>0</td>\n",
       "      <td>NaN</td>\n",
       "    </tr>\n",
       "    <tr>\n",
       "      <th>1</th>\n",
       "      <td>200739</td>\n",
       "      <td>Alice</td>\n",
       "      <td>Pires</td>\n",
       "      <td>Psicologia</td>\n",
       "      <td>17</td>\n",
       "      <td>0</td>\n",
       "      <td>NaN</td>\n",
       "    </tr>\n",
       "    <tr>\n",
       "      <th>3</th>\n",
       "      <td>2003485</td>\n",
       "      <td>Alice</td>\n",
       "      <td>Pires</td>\n",
       "      <td>Psicologia</td>\n",
       "      <td>13</td>\n",
       "      <td>0</td>\n",
       "      <td>NaN</td>\n",
       "    </tr>\n",
       "    <tr>\n",
       "      <th>4</th>\n",
       "      <td>2003504</td>\n",
       "      <td>Beatriz</td>\n",
       "      <td>Laranjeira</td>\n",
       "      <td>Comunicação</td>\n",
       "      <td>12</td>\n",
       "      <td>0</td>\n",
       "      <td>NaN</td>\n",
       "    </tr>\n",
       "    <tr>\n",
       "      <th>5</th>\n",
       "      <td>2003821</td>\n",
       "      <td>Nuno</td>\n",
       "      <td>Laranjeira</td>\n",
       "      <td>Psicologia</td>\n",
       "      <td>16</td>\n",
       "      <td>0</td>\n",
       "      <td>NaN</td>\n",
       "    </tr>\n",
       "    <tr>\n",
       "      <th>6</th>\n",
       "      <td>2007103</td>\n",
       "      <td>Catarina</td>\n",
       "      <td>Castelo</td>\n",
       "      <td>Informática</td>\n",
       "      <td>14</td>\n",
       "      <td>0</td>\n",
       "      <td>NaN</td>\n",
       "    </tr>\n",
       "    <tr>\n",
       "      <th>13</th>\n",
       "      <td>2020537</td>\n",
       "      <td>Maria João</td>\n",
       "      <td>Sampaio</td>\n",
       "      <td>Comunicação</td>\n",
       "      <td>12</td>\n",
       "      <td>0</td>\n",
       "      <td>NaN</td>\n",
       "    </tr>\n",
       "    <tr>\n",
       "      <th>16</th>\n",
       "      <td>2021847</td>\n",
       "      <td>Patrícia</td>\n",
       "      <td>Pires</td>\n",
       "      <td>Psicologia</td>\n",
       "      <td>10</td>\n",
       "      <td>0</td>\n",
       "      <td>NaN</td>\n",
       "    </tr>\n",
       "    <tr>\n",
       "      <th>17</th>\n",
       "      <td>2022848</td>\n",
       "      <td>Carla</td>\n",
       "      <td>Pereira</td>\n",
       "      <td>Psicologia</td>\n",
       "      <td>17</td>\n",
       "      <td>0</td>\n",
       "      <td>NaN</td>\n",
       "    </tr>\n",
       "    <tr>\n",
       "      <th>20</th>\n",
       "      <td>20031072</td>\n",
       "      <td>Nuno</td>\n",
       "      <td>Pires</td>\n",
       "      <td>Comunicação</td>\n",
       "      <td>14</td>\n",
       "      <td>0</td>\n",
       "      <td>NaN</td>\n",
       "    </tr>\n",
       "    <tr>\n",
       "      <th>22</th>\n",
       "      <td>20191494</td>\n",
       "      <td>Joana</td>\n",
       "      <td>Castelo</td>\n",
       "      <td>Psicologia</td>\n",
       "      <td>15</td>\n",
       "      <td>0</td>\n",
       "      <td>NaN</td>\n",
       "    </tr>\n",
       "    <tr>\n",
       "      <th>23</th>\n",
       "      <td>20191750</td>\n",
       "      <td>Anne</td>\n",
       "      <td>Cintra</td>\n",
       "      <td>Comunicação</td>\n",
       "      <td>12</td>\n",
       "      <td>0</td>\n",
       "      <td>NaN</td>\n",
       "    </tr>\n",
       "    <tr>\n",
       "      <th>26</th>\n",
       "      <td>20211052</td>\n",
       "      <td>Raquel</td>\n",
       "      <td>Castelo</td>\n",
       "      <td>Comunicação</td>\n",
       "      <td>16</td>\n",
       "      <td>0</td>\n",
       "      <td>NaN</td>\n",
       "    </tr>\n",
       "    <tr>\n",
       "      <th>30</th>\n",
       "      <td>20211664</td>\n",
       "      <td>Beatriz</td>\n",
       "      <td>Capicua</td>\n",
       "      <td>Informática</td>\n",
       "      <td>16</td>\n",
       "      <td>0</td>\n",
       "      <td>NaN</td>\n",
       "    </tr>\n",
       "    <tr>\n",
       "      <th>31</th>\n",
       "      <td>20221087</td>\n",
       "      <td>Rodrigo</td>\n",
       "      <td>Morais</td>\n",
       "      <td>Informática</td>\n",
       "      <td>16</td>\n",
       "      <td>0</td>\n",
       "      <td>NaN</td>\n",
       "    </tr>\n",
       "  </tbody>\n",
       "</table>\n",
       "</div>"
      ],
      "text/plain": [
       "    nr_aluno        nome     apelido        curso  media_entrada  \\\n",
       "0     200722    Catarina    da Silva   Psicologia             13   \n",
       "1     200739       Alice       Pires   Psicologia             17   \n",
       "3    2003485       Alice       Pires   Psicologia             13   \n",
       "4    2003504     Beatriz  Laranjeira  Comunicação             12   \n",
       "5    2003821        Nuno  Laranjeira   Psicologia             16   \n",
       "6    2007103    Catarina     Castelo  Informática             14   \n",
       "13   2020537  Maria João     Sampaio  Comunicação             12   \n",
       "16   2021847    Patrícia       Pires   Psicologia             10   \n",
       "17   2022848       Carla     Pereira   Psicologia             17   \n",
       "20  20031072        Nuno       Pires  Comunicação             14   \n",
       "22  20191494       Joana     Castelo   Psicologia             15   \n",
       "23  20191750        Anne      Cintra  Comunicação             12   \n",
       "26  20211052      Raquel     Castelo  Comunicação             16   \n",
       "30  20211664     Beatriz     Capicua  Informática             16   \n",
       "31  20221087     Rodrigo      Morais  Informática             16   \n",
       "\n",
       "    curso_concluido  media_final  \n",
       "0                 0          NaN  \n",
       "1                 0          NaN  \n",
       "3                 0          NaN  \n",
       "4                 0          NaN  \n",
       "5                 0          NaN  \n",
       "6                 0          NaN  \n",
       "13                0          NaN  \n",
       "16                0          NaN  \n",
       "17                0          NaN  \n",
       "20                0          NaN  \n",
       "22                0          NaN  \n",
       "23                0          NaN  \n",
       "26                0          NaN  \n",
       "30                0          NaN  \n",
       "31                0          NaN  "
      ]
     },
     "execution_count": 220,
     "metadata": {},
     "output_type": "execute_result"
    }
   ],
   "source": [
    "df"
   ]
  },
  {
   "cell_type": "code",
   "execution_count": 221,
   "id": "38cc986f",
   "metadata": {},
   "outputs": [
    {
     "data": {
      "text/plain": [
       "Psicologia              9\n",
       "Informática             9\n",
       "Comunicação             7\n",
       "Medicina Veterinária    4\n",
       "Desconhecido            2\n",
       "Cintilar                1\n",
       "Má Vida                 1\n",
       "Name: curso, dtype: int64"
      ]
     },
     "execution_count": 221,
     "metadata": {},
     "output_type": "execute_result"
    }
   ],
   "source": [
    "dados2['curso'].value_counts()  #wanted to determine which major were in the flawed data"
   ]
  },
  {
   "cell_type": "code",
   "execution_count": 222,
   "id": "96f95973",
   "metadata": {},
   "outputs": [],
   "source": [
    "dadosFase2 = pd.read_csv('C:/xampp/htdocs/phpprog/Uni_Maravilhas_Final/Uni_Fase2dados.csv')"
   ]
  },
  {
   "cell_type": "code",
   "execution_count": 223,
   "id": "f2da1325",
   "metadata": {},
   "outputs": [
    {
     "data": {
      "text/html": [
       "<div>\n",
       "<style scoped>\n",
       "    .dataframe tbody tr th:only-of-type {\n",
       "        vertical-align: middle;\n",
       "    }\n",
       "\n",
       "    .dataframe tbody tr th {\n",
       "        vertical-align: top;\n",
       "    }\n",
       "\n",
       "    .dataframe thead th {\n",
       "        text-align: right;\n",
       "    }\n",
       "</style>\n",
       "<table border=\"1\" class=\"dataframe\">\n",
       "  <thead>\n",
       "    <tr style=\"text-align: right;\">\n",
       "      <th></th>\n",
       "      <th>nr_aluno</th>\n",
       "      <th>nome</th>\n",
       "      <th>apelido</th>\n",
       "      <th>curso</th>\n",
       "      <th>media_entrada</th>\n",
       "      <th>curso_concluido</th>\n",
       "      <th>media_final</th>\n",
       "      <th>curso_origem</th>\n",
       "    </tr>\n",
       "  </thead>\n",
       "  <tbody>\n",
       "    <tr>\n",
       "      <th>0</th>\n",
       "      <td>20031002</td>\n",
       "      <td>Diana</td>\n",
       "      <td>Pereira</td>\n",
       "      <td>Psicologia</td>\n",
       "      <td>12</td>\n",
       "      <td>1</td>\n",
       "      <td>20</td>\n",
       "      <td>Geral</td>\n",
       "    </tr>\n",
       "    <tr>\n",
       "      <th>1</th>\n",
       "      <td>20031013</td>\n",
       "      <td>Nuno</td>\n",
       "      <td>Capicua</td>\n",
       "      <td>Informática</td>\n",
       "      <td>12</td>\n",
       "      <td>1</td>\n",
       "      <td>19</td>\n",
       "      <td>Geral</td>\n",
       "    </tr>\n",
       "    <tr>\n",
       "      <th>2</th>\n",
       "      <td>20031015</td>\n",
       "      <td>Rita</td>\n",
       "      <td>Machado</td>\n",
       "      <td>Comunicação</td>\n",
       "      <td>20</td>\n",
       "      <td>1</td>\n",
       "      <td>13</td>\n",
       "      <td>Geral</td>\n",
       "    </tr>\n",
       "    <tr>\n",
       "      <th>3</th>\n",
       "      <td>2003102</td>\n",
       "      <td>Raquel</td>\n",
       "      <td>Laranjeira</td>\n",
       "      <td>Informática</td>\n",
       "      <td>18</td>\n",
       "      <td>1</td>\n",
       "      <td>12</td>\n",
       "      <td>Profissional</td>\n",
       "    </tr>\n",
       "    <tr>\n",
       "      <th>4</th>\n",
       "      <td>20031022</td>\n",
       "      <td>Patrícia</td>\n",
       "      <td>Castelo</td>\n",
       "      <td>Psicologia</td>\n",
       "      <td>15</td>\n",
       "      <td>1</td>\n",
       "      <td>14</td>\n",
       "      <td>Geral</td>\n",
       "    </tr>\n",
       "  </tbody>\n",
       "</table>\n",
       "</div>"
      ],
      "text/plain": [
       "   nr_aluno      nome     apelido        curso  media_entrada  \\\n",
       "0  20031002     Diana     Pereira   Psicologia             12   \n",
       "1  20031013      Nuno     Capicua  Informática             12   \n",
       "2  20031015      Rita     Machado  Comunicação             20   \n",
       "3   2003102    Raquel  Laranjeira  Informática             18   \n",
       "4  20031022  Patrícia     Castelo   Psicologia             15   \n",
       "\n",
       "   curso_concluido  media_final  curso_origem  \n",
       "0                1           20         Geral  \n",
       "1                1           19         Geral  \n",
       "2                1           13         Geral  \n",
       "3                1           12  Profissional  \n",
       "4                1           14         Geral  "
      ]
     },
     "execution_count": 223,
     "metadata": {},
     "output_type": "execute_result"
    }
   ],
   "source": [
    "dadosFase2.head()"
   ]
  },
  {
   "cell_type": "code",
   "execution_count": 225,
   "id": "d08ebf74",
   "metadata": {},
   "outputs": [],
   "source": [
    "group_df2 = dadosFase2.groupby(\"curso_origem\")"
   ]
  },
  {
   "cell_type": "code",
   "execution_count": 226,
   "id": "41512621",
   "metadata": {},
   "outputs": [],
   "source": [
    "mean_df2 = group_df2.mean().round(0)"
   ]
  },
  {
   "cell_type": "code",
   "execution_count": 227,
   "id": "d799501f",
   "metadata": {},
   "outputs": [
    {
     "name": "stdout",
     "output_type": "stream",
     "text": [
      "                nr_aluno  media_entrada  curso_concluido  media_final\n",
      "curso_origem                                                         \n",
      "Geral         73366065.0           16.0              1.0         14.0\n",
      "Profissional  67400211.0           14.0              1.0         16.0\n"
     ]
    }
   ],
   "source": [
    "#shows that there is a correlation between those students with prof and the program. They did significantly better\n",
    "print(mean_df2)"
   ]
  },
  {
   "cell_type": "code",
   "execution_count": null,
   "id": "a0a2dbc6",
   "metadata": {},
   "outputs": [],
   "source": []
  },
  {
   "cell_type": "code",
   "execution_count": null,
   "id": "e1f8e51a",
   "metadata": {},
   "outputs": [],
   "source": []
  },
  {
   "cell_type": "code",
   "execution_count": null,
   "id": "8401c017",
   "metadata": {},
   "outputs": [],
   "source": []
  }
 ],
 "metadata": {
  "kernelspec": {
   "display_name": "Python 3 (ipykernel)",
   "language": "python",
   "name": "python3"
  },
  "language_info": {
   "codemirror_mode": {
    "name": "ipython",
    "version": 3
   },
   "file_extension": ".py",
   "mimetype": "text/x-python",
   "name": "python",
   "nbconvert_exporter": "python",
   "pygments_lexer": "ipython3",
   "version": "3.10.0"
  }
 },
 "nbformat": 4,
 "nbformat_minor": 5
}
